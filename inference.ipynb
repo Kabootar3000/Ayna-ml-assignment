{
 "cells": [
  {
   "cell_type": "markdown",
   "id": "3d3178d3",
   "metadata": {},
   "source": [
    "# Inference Notebook: UNet Polygon Coloring\n",
    "This notebook demonstrates how to load a trained UNet model and perform inference on grayscale polygon images with a specified color."
   ]
  },
  {
   "cell_type": "code",
   "execution_count": null,
   "id": "ecebcf25",
   "metadata": {},
   "outputs": [],
   "source": [
    "import torch\n",
    "from model import create_model\n",
    "from dataset import preprocess_image\n",
    "from PIL import Image\n",
    "import matplotlib.pyplot as plt"
   ]
  },
  {
   "cell_type": "code",
   "execution_count": null,
   "id": "8e6da96a",
   "metadata": {},
   "outputs": [],
   "source": [
    "device = torch.device('cuda' if torch.cuda.is_available() else 'cpu')\n",
    "model = create_model(n_channels=1, n_classes=3, num_colors=10).to(device)\n",
    "checkpoint = torch.load('checkpoints/best_model.pth', map_location=device)\n",
    "model.load_state_dict(checkpoint['model_state_dict'])\n",
    "model.eval()"
   ]
  },
  {
   "cell_type": "code",
   "execution_count": null,
   "id": "9da13ee2",
   "metadata": {},
   "outputs": [],
   "source": [
    "OLOR_MAP = {\n",
    "    'red': 0,\n",
    "    'green': 1,\n",
    "    'blue': 2,\n",
    "    'yellow': 3,\n",
    "    'purple': 4,\n",
    "    'cyan': 5,\n",
    "    'orange': 6,\n",
    "    'black': 7,\n",
    "    'white': 8,\n",
    "    'pink': 9\n",
    "}\n",
    "\n",
    "def run_inference(image_path, color_name):\n",
    "    if color_name not in COLOR_MAP:\n",
    "        raise ValueError(f\"Unknown color name '{color_name}'. Valid options: {list(COLOR_MAP.keys())}\")\n",
    "\n",
    "    input_image = preprocess_image(image_path)\n",
    "    input_tensor = input_image.unsqueeze(0).to(device)\n",
    "    color_index = torch.tensor([COLOR_MAP[color_name]], dtype=torch.long).to(device)\n",
    "\n",
    "    with torch.no_grad():\n",
    "        prediction = model(input_tensor, color_index)\n",
    "        prediction = prediction.squeeze(0).cpu().numpy().transpose(1, 2, 0)\n",
    "        prediction = (prediction * 255).clip(0, 255).astype('uint8')\n",
    "\n",
    "    fig, axs = plt.subplots(1, 2, figsize=(8, 4))\n",
    "    axs[0].imshow(Image.open(image_path).convert('L'), cmap='gray')\n",
    "    axs[0].set_title('Input Polygon')\n",
    "    axs[0].axis('off')\n",
    "    axs[1].imshow(prediction)\n",
    "    axs[1].set_title(f'Output: {color_name}')\n",
    "    axs[1].axis('off')\n",
    "    plt.show()"
   ]
  },
  {
   "cell_type": "code",
   "execution_count": null,
   "id": "18b7e170",
   "metadata": {},
   "outputs": [],
   "source": [
    "run_inference('path/to/grayscale_polygon.png', 'red')\n"
   ]
  }
 ],
 "metadata": {
  "language_info": {
   "name": "python"
  }
 },
 "nbformat": 4,
 "nbformat_minor": 5
}
